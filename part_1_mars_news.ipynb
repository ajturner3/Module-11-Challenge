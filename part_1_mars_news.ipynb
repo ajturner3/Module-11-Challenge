{
 "cells": [
  {
   "cell_type": "markdown",
   "metadata": {},
   "source": [
    "# Module 11 Challenge\n",
    "## Deliverable 1: Scrape Titles and Preview Text from Mars News"
   ]
  },
  {
   "cell_type": "code",
   "execution_count": 75,
   "metadata": {},
   "outputs": [],
   "source": [
    "# Import Splinter and BeautifulSoup\n",
    "from splinter import Browser\n",
    "from bs4 import BeautifulSoup\n",
    "from selenium import webdriver\n",
    "import requests"
   ]
  },
  {
   "cell_type": "code",
   "execution_count": 76,
   "metadata": {
    "scrolled": true
   },
   "outputs": [],
   "source": [
    "browser = Browser('chrome')"
   ]
  },
  {
   "cell_type": "markdown",
   "metadata": {},
   "source": [
    "### Step 1: Visit the Website\n",
    "\n",
    "1. Use automated browsing to visit the [Mars news site](https://static.bc-edx.com/data/web/mars_news/index.html). Inspect the page to identify which elements to scrape.\n",
    "\n",
    "      > **Hint** To identify which elements to scrape, you might want to inspect the page by using Chrome DevTools."
   ]
  },
  {
   "cell_type": "code",
   "execution_count": 77,
   "metadata": {},
   "outputs": [],
   "source": [
    "# Visit the Mars news site\n",
    "url = 'https://static.bc-edx.com/data/web/mars_news/index.html'\n",
    "driver = webdriver.Chrome()\n",
    "driver.get(url)\n",
    "html_content = driver.page_source"
   ]
  },
  {
   "cell_type": "markdown",
   "metadata": {},
   "source": [
    "### Step 2: Scrape the Website\n",
    "\n",
    "Create a Beautiful Soup object and use it to extract text elements from the website."
   ]
  },
  {
   "cell_type": "code",
   "execution_count": 78,
   "metadata": {},
   "outputs": [],
   "source": [
    "# Create a Beautiful Soup object\n",
    "soup = BeautifulSoup(html_content, 'html.parser')"
   ]
  },
  {
   "cell_type": "code",
   "execution_count": 113,
   "metadata": {},
   "outputs": [
    {
     "name": "stdout",
     "output_type": "stream",
     "text": [
      "[\"News - Mars Exploration ProgramMARS Planet ScienceExploration ProgramThe Red PlanetThe ProgramNews & EventsMultimediaMissionsMoreNewsLatestAll CategoriesNovember 9, 2022NASA's MAVEN Observes Martian Light Show Caused by Major Solar StormFor the first time in its eight years orbiting Mars, NASA’s MAVEN mission witnessed two different types of ultraviolet aurorae simultaneously, the result of solar storms that began on Aug. 27.November 1, 2022NASA Prepares to Say 'Farewell' to InSight SpacecraftA closer look at what goes into wrapping up the mission as the spacecraft’s power supply continues to dwindle.October 28, 2022NASA and ESA Agree on Next Steps to Return Mars Samples to EarthThe agency’s Perseverance rover will establish the first sample depot on Mars.October 27, 2022NASA's InSight Lander Detects Stunning Meteoroid Impact on MarsThe agency’s lander felt the ground shake during the impact while cameras aboard the Mars Reconnaissance Orbiter spotted the yawning new crater from space.October 21, 2022NASA To Host Briefing on InSight, Mars Reconnaissance Orbiter FindingsScientists from two Mars missions will discuss how they combined images and data for a major finding on the Red Planet.October 20, 2022Why NASA Is Trying To Crash Land on MarsLike a car’s crumple zone, the experimental SHIELD lander is designed to absorb a hard impact.October 19, 2022Curiosity Mars Rover Reaches Long-Awaited Salty RegionAfter years of climbing, the Mars rover has arrived at a special region believed to have formed as Mars’ climate was drying.October 12, 2022Mars Mission Shields Up for TestsProtecting Mars Sample Return spacecraft from micrometeorites requires high-caliber work.October 7, 2022NASA's InSight Waits Out Dust StormInSight’s team is taking steps to help the solar-powered lander continue operating for as long as possible.September 19, 2022NASA's InSight 'Hears' Its First Meteoroid Impacts on MarsThe Mars lander’s seismometer has picked up vibrations from four separate impacts in the past two years.September 15, 2022NASA's Perseverance Rover Investigates Geologically Rich Mars TerrainThe latest findings provide greater detail on a region of the Red Planet that has a watery past and is yielding promising samples for the NASA-ESA Mars Sample Return campaign.September 12, 2022NASA to Host Briefing on Perseverance Mars Rover Mission OperationsMembers of the mission will discuss the rover’s activities as it gathers samples in an ancient river delta.August 25, 2022NASA's Perseverance Makes New Discoveries in Mars' Jezero CraterThe rover found that Jezero Crater’s floor is made up of volcanic rocks that have interacted with water.August 5, 202210 Years Since Landing, NASA's Curiosity Mars Rover Still Has DriveDespite signs of wear, the intrepid spacecraft is about to start an exciting new chapter of its mission as it climbs a Martian mountain.August 4, 2022SAM's Top 5 Discoveries Aboard NASA's Curiosity Rover at Mars“Selfie” of the Curiosity rover with inset showing the SAM instrument prior to installation on the rover.MoreYou Might Also LikeNASA Marks 25 Years Since Pathfinder Touched Down on MarsNASA's Perseverance Rover Captures Video of Solar Eclipse on MarsNASA, UAE Mars Missions Agree to Share Science DataThe Red PlanetDashboardScience GoalsThe PlanetThe ProgramMission StatementAbout the ProgramOrganization Why Mars?MultimediaImagesVideosMore ResourcesMissionsPastPresentFutureImages and news content extracted from NASA'sMars Newswebsite on November 9, 2022.Images used in accordance with theJPL Image Use Policy.This site is operated by edX Boot Camps LLC for educational purposes only.This is not a website endorsed by NASA. This website is intended only for internal academic purposes.\", 'News - Mars Exploration Program', 'News - Mars Exploration Program', \"MARS Planet ScienceExploration ProgramThe Red PlanetThe ProgramNews & EventsMultimediaMissionsMoreNewsLatestAll CategoriesNovember 9, 2022NASA's MAVEN Observes Martian Light Show Caused by Major Solar StormFor the first time in its eight years orbiting Mars, NASA’s MAVEN mission witnessed two different types of ultraviolet aurorae simultaneously, the result of solar storms that began on Aug. 27.November 1, 2022NASA Prepares to Say 'Farewell' to InSight SpacecraftA closer look at what goes into wrapping up the mission as the spacecraft’s power supply continues to dwindle.October 28, 2022NASA and ESA Agree on Next Steps to Return Mars Samples to EarthThe agency’s Perseverance rover will establish the first sample depot on Mars.October 27, 2022NASA's InSight Lander Detects Stunning Meteoroid Impact on MarsThe agency’s lander felt the ground shake during the impact while cameras aboard the Mars Reconnaissance Orbiter spotted the yawning new crater from space.October 21, 2022NASA To Host Briefing on InSight, Mars Reconnaissance Orbiter FindingsScientists from two Mars missions will discuss how they combined images and data for a major finding on the Red Planet.October 20, 2022Why NASA Is Trying To Crash Land on MarsLike a car’s crumple zone, the experimental SHIELD lander is designed to absorb a hard impact.October 19, 2022Curiosity Mars Rover Reaches Long-Awaited Salty RegionAfter years of climbing, the Mars rover has arrived at a special region believed to have formed as Mars’ climate was drying.October 12, 2022Mars Mission Shields Up for TestsProtecting Mars Sample Return spacecraft from micrometeorites requires high-caliber work.October 7, 2022NASA's InSight Waits Out Dust StormInSight’s team is taking steps to help the solar-powered lander continue operating for as long as possible.September 19, 2022NASA's InSight 'Hears' Its First Meteoroid Impacts on MarsThe Mars lander’s seismometer has picked up vibrations from four separate impacts in the past two years.September 15, 2022NASA's Perseverance Rover Investigates Geologically Rich Mars TerrainThe latest findings provide greater detail on a region of the Red Planet that has a watery past and is yielding promising samples for the NASA-ESA Mars Sample Return campaign.September 12, 2022NASA to Host Briefing on Perseverance Mars Rover Mission OperationsMembers of the mission will discuss the rover’s activities as it gathers samples in an ancient river delta.August 25, 2022NASA's Perseverance Makes New Discoveries in Mars' Jezero CraterThe rover found that Jezero Crater’s floor is made up of volcanic rocks that have interacted with water.August 5, 202210 Years Since Landing, NASA's Curiosity Mars Rover Still Has DriveDespite signs of wear, the intrepid spacecraft is about to start an exciting new chapter of its mission as it climbs a Martian mountain.August 4, 2022SAM's Top 5 Discoveries Aboard NASA's Curiosity Rover at Mars“Selfie” of the Curiosity rover with inset showing the SAM instrument prior to installation on the rover.MoreYou Might Also LikeNASA Marks 25 Years Since Pathfinder Touched Down on MarsNASA's Perseverance Rover Captures Video of Solar Eclipse on MarsNASA, UAE Mars Missions Agree to Share Science DataThe Red PlanetDashboardScience GoalsThe PlanetThe ProgramMission StatementAbout the ProgramOrganization Why Mars?MultimediaImagesVideosMore ResourcesMissionsPastPresentFutureImages and news content extracted from NASA'sMars Newswebsite on November 9, 2022.Images used in accordance with theJPL Image Use Policy.This site is operated by edX Boot Camps LLC for educational purposes only.This is not a website endorsed by NASA. This website is intended only for internal academic purposes.\", \"MARS Planet ScienceExploration ProgramThe Red PlanetThe ProgramNews & EventsMultimediaMissionsMoreNewsLatestAll CategoriesNovember 9, 2022NASA's MAVEN Observes Martian Light Show Caused by Major Solar StormFor the first time in its eight years orbiting Mars, NASA’s MAVEN mission witnessed two different types of ultraviolet aurorae simultaneously, the result of solar storms that began on Aug. 27.November 1, 2022NASA Prepares to Say 'Farewell' to InSight SpacecraftA closer look at what goes into wrapping up the mission as the spacecraft’s power supply continues to dwindle.October 28, 2022NASA and ESA Agree on Next Steps to Return Mars Samples to EarthThe agency’s Perseverance rover will establish the first sample depot on Mars.October 27, 2022NASA's InSight Lander Detects Stunning Meteoroid Impact on MarsThe agency’s lander felt the ground shake during the impact while cameras aboard the Mars Reconnaissance Orbiter spotted the yawning new crater from space.October 21, 2022NASA To Host Briefing on InSight, Mars Reconnaissance Orbiter FindingsScientists from two Mars missions will discuss how they combined images and data for a major finding on the Red Planet.October 20, 2022Why NASA Is Trying To Crash Land on MarsLike a car’s crumple zone, the experimental SHIELD lander is designed to absorb a hard impact.October 19, 2022Curiosity Mars Rover Reaches Long-Awaited Salty RegionAfter years of climbing, the Mars rover has arrived at a special region believed to have formed as Mars’ climate was drying.October 12, 2022Mars Mission Shields Up for TestsProtecting Mars Sample Return spacecraft from micrometeorites requires high-caliber work.October 7, 2022NASA's InSight Waits Out Dust StormInSight’s team is taking steps to help the solar-powered lander continue operating for as long as possible.September 19, 2022NASA's InSight 'Hears' Its First Meteoroid Impacts on MarsThe Mars lander’s seismometer has picked up vibrations from four separate impacts in the past two years.September 15, 2022NASA's Perseverance Rover Investigates Geologically Rich Mars TerrainThe latest findings provide greater detail on a region of the Red Planet that has a watery past and is yielding promising samples for the NASA-ESA Mars Sample Return campaign.September 12, 2022NASA to Host Briefing on Perseverance Mars Rover Mission OperationsMembers of the mission will discuss the rover’s activities as it gathers samples in an ancient river delta.August 25, 2022NASA's Perseverance Makes New Discoveries in Mars' Jezero CraterThe rover found that Jezero Crater’s floor is made up of volcanic rocks that have interacted with water.August 5, 202210 Years Since Landing, NASA's Curiosity Mars Rover Still Has DriveDespite signs of wear, the intrepid spacecraft is about to start an exciting new chapter of its mission as it climbs a Martian mountain.August 4, 2022SAM's Top 5 Discoveries Aboard NASA's Curiosity Rover at Mars“Selfie” of the Curiosity rover with inset showing the SAM instrument prior to installation on the rover.MoreYou Might Also LikeNASA Marks 25 Years Since Pathfinder Touched Down on MarsNASA's Perseverance Rover Captures Video of Solar Eclipse on MarsNASA, UAE Mars Missions Agree to Share Science DataThe Red PlanetDashboardScience GoalsThe PlanetThe ProgramMission StatementAbout the ProgramOrganization Why Mars?MultimediaImagesVideosMore ResourcesMissionsPastPresentFutureImages and news content extracted from NASA'sMars Newswebsite on November 9, 2022.Images used in accordance with theJPL Image Use Policy.This site is operated by edX Boot Camps LLC for educational purposes only.This is not a website endorsed by NASA. This website is intended only for internal academic purposes.\", \"MARS Planet ScienceExploration ProgramThe Red PlanetThe ProgramNews & EventsMultimediaMissionsMoreNewsLatestAll CategoriesNovember 9, 2022NASA's MAVEN Observes Martian Light Show Caused by Major Solar StormFor the first time in its eight years orbiting Mars, NASA’s MAVEN mission witnessed two different types of ultraviolet aurorae simultaneously, the result of solar storms that began on Aug. 27.November 1, 2022NASA Prepares to Say 'Farewell' to InSight SpacecraftA closer look at what goes into wrapping up the mission as the spacecraft’s power supply continues to dwindle.October 28, 2022NASA and ESA Agree on Next Steps to Return Mars Samples to EarthThe agency’s Perseverance rover will establish the first sample depot on Mars.October 27, 2022NASA's InSight Lander Detects Stunning Meteoroid Impact on MarsThe agency’s lander felt the ground shake during the impact while cameras aboard the Mars Reconnaissance Orbiter spotted the yawning new crater from space.October 21, 2022NASA To Host Briefing on InSight, Mars Reconnaissance Orbiter FindingsScientists from two Mars missions will discuss how they combined images and data for a major finding on the Red Planet.October 20, 2022Why NASA Is Trying To Crash Land on MarsLike a car’s crumple zone, the experimental SHIELD lander is designed to absorb a hard impact.October 19, 2022Curiosity Mars Rover Reaches Long-Awaited Salty RegionAfter years of climbing, the Mars rover has arrived at a special region believed to have formed as Mars’ climate was drying.October 12, 2022Mars Mission Shields Up for TestsProtecting Mars Sample Return spacecraft from micrometeorites requires high-caliber work.October 7, 2022NASA's InSight Waits Out Dust StormInSight’s team is taking steps to help the solar-powered lander continue operating for as long as possible.September 19, 2022NASA's InSight 'Hears' Its First Meteoroid Impacts on MarsThe Mars lander’s seismometer has picked up vibrations from four separate impacts in the past two years.September 15, 2022NASA's Perseverance Rover Investigates Geologically Rich Mars TerrainThe latest findings provide greater detail on a region of the Red Planet that has a watery past and is yielding promising samples for the NASA-ESA Mars Sample Return campaign.September 12, 2022NASA to Host Briefing on Perseverance Mars Rover Mission OperationsMembers of the mission will discuss the rover’s activities as it gathers samples in an ancient river delta.August 25, 2022NASA's Perseverance Makes New Discoveries in Mars' Jezero CraterThe rover found that Jezero Crater’s floor is made up of volcanic rocks that have interacted with water.August 5, 202210 Years Since Landing, NASA's Curiosity Mars Rover Still Has DriveDespite signs of wear, the intrepid spacecraft is about to start an exciting new chapter of its mission as it climbs a Martian mountain.August 4, 2022SAM's Top 5 Discoveries Aboard NASA's Curiosity Rover at Mars“Selfie” of the Curiosity rover with inset showing the SAM instrument prior to installation on the rover.MoreYou Might Also LikeNASA Marks 25 Years Since Pathfinder Touched Down on MarsNASA's Perseverance Rover Captures Video of Solar Eclipse on MarsNASA, UAE Mars Missions Agree to Share Science DataThe Red PlanetDashboardScience GoalsThe PlanetThe ProgramMission StatementAbout the ProgramOrganization Why Mars?MultimediaImagesVideosMore ResourcesMissionsPastPresentFutureImages and news content extracted from NASA'sMars Newswebsite on November 9, 2022.Images used in accordance with theJPL Image Use Policy.This site is operated by edX Boot Camps LLC for educational purposes only.This is not a website endorsed by NASA. This website is intended only for internal academic purposes.\", 'MARS Planet ScienceExploration ProgramThe Red PlanetThe ProgramNews & EventsMultimediaMissionsMore', 'MARS Planet ScienceExploration ProgramThe Red PlanetThe ProgramNews & EventsMultimediaMissionsMore', 'MARS Planet ScienceExploration Program', 'MARS Planet Science']\n"
     ]
    }
   ],
   "source": [
    "# Extract all the text elements\n",
    "all_text = []\n",
    "\n",
    "for element in soup.find_all(True):  # The True argument here selects all tags\n",
    "    text = element.get_text(strip=True)\n",
    "    if text:  # This check is to avoid adding empty strings\n",
    "        all_text.append(text)\n",
    "\n",
    "# To see a part of what was extracted\n",
    "print(all_text[:10])  # This will print the text of the first 10 elements\n"
   ]
  },
  {
   "cell_type": "markdown",
   "metadata": {},
   "source": [
    "### Step 3: Store the Results\n",
    "\n",
    "Extract the titles and preview text of the news articles that you scraped. Store the scraping results in Python data structures as follows:\n",
    "\n",
    "* Store each title-and-preview pair in a Python dictionary. And, give each dictionary two keys: `title` and `preview`. An example is the following:\n",
    "\n",
    "  ```python\n",
    "  {'title': \"NASA's MAVEN Observes Martian Light Show Caused by Major Solar Storm\", \n",
    "   'preview': \"For the first time in its eight years orbiting Mars, NASA’s MAVEN mission witnessed two different types of ultraviolet aurorae simultaneously, the result of solar storms that began on Aug. 27.\"\n",
    "  }\n",
    "  ```\n",
    "\n",
    "* Store all the dictionaries in a Python list.\n",
    "\n",
    "* Print the list in your notebook."
   ]
  },
  {
   "cell_type": "code",
   "execution_count": 107,
   "metadata": {},
   "outputs": [],
   "source": [
    "# Create an empty list to store the dictionaries\n",
    "news_list = []"
   ]
  },
  {
   "cell_type": "code",
   "execution_count": 110,
   "metadata": {},
   "outputs": [],
   "source": [
    "# Initialize an empty list to store the dictionaries\n",
    "news_list = []\n",
    "\n",
    "# Loop through the text elements (assuming 'soup.find_all' is correct for your HTML structure)\n",
    "for item in soup.find_all('div', class_='news-item'):  \n",
    "    # Extract the title and preview text from the elements\n",
    "    title = item.find('h1').get_text(strip=True)\n",
    "    preview = item.find('p').get_text(strip=True)  \n",
    "\n",
    "    # Store each title and preview pair in a dictionary\n",
    "    news_dict = {\n",
    "        'title': title,\n",
    "        'preview': preview\n",
    "    }\n",
    "\n",
    "    # Add the dictionary to the list\n",
    "    news_list.append(news_dict)\n"
   ]
  },
  {
   "cell_type": "code",
   "execution_count": 111,
   "metadata": {},
   "outputs": [],
   "source": [
    "# Print the list to confirm success\n",
    "for news_item in news_list:\n",
    "    print(news_item)"
   ]
  },
  {
   "cell_type": "code",
   "execution_count": 112,
   "metadata": {},
   "outputs": [],
   "source": [
    "browser.quit()"
   ]
  },
  {
   "cell_type": "code",
   "execution_count": null,
   "metadata": {},
   "outputs": [],
   "source": []
  }
 ],
 "metadata": {
  "kernelspec": {
   "display_name": "Python 3 (ipykernel)",
   "language": "python",
   "name": "python3"
  },
  "language_info": {
   "codemirror_mode": {
    "name": "ipython",
    "version": 3
   },
   "file_extension": ".py",
   "mimetype": "text/x-python",
   "name": "python",
   "nbconvert_exporter": "python",
   "pygments_lexer": "ipython3",
   "version": "3.11.4"
  },
  "vscode": {
   "interpreter": {
    "hash": "31f2aee4e71d21fbe5cf8b01ff0e069b9275f58929596ceb00d14d90e3e16cd6"
   }
  }
 },
 "nbformat": 4,
 "nbformat_minor": 4
}
